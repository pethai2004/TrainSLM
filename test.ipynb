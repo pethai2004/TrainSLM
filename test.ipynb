{
 "cells": [
  {
   "cell_type": "code",
   "execution_count": 1,
   "metadata": {},
   "outputs": [
    {
     "name": "stderr",
     "output_type": "stream",
     "text": [
      "/Users/owan/.pyenv/versions/3.11.5/lib/python3.11/site-packages/transformers/utils/generic.py:441: UserWarning: torch.utils._pytree._register_pytree_node is deprecated. Please use torch.utils._pytree.register_pytree_node instead.\n",
      "  _torch_pytree._register_pytree_node(\n",
      "/Users/owan/.pyenv/versions/3.11.5/lib/python3.11/site-packages/transformers/utils/generic.py:309: UserWarning: torch.utils._pytree._register_pytree_node is deprecated. Please use torch.utils._pytree.register_pytree_node instead.\n",
      "  _torch_pytree._register_pytree_node(\n",
      "/Users/owan/.pyenv/versions/3.11.5/lib/python3.11/site-packages/transformers/utils/generic.py:309: UserWarning: torch.utils._pytree._register_pytree_node is deprecated. Please use torch.utils._pytree.register_pytree_node instead.\n",
      "  _torch_pytree._register_pytree_node(\n"
     ]
    }
   ],
   "source": [
    "import torch \n",
    "\n",
    "from src.utility import get_tokenizer\n",
    "from common import create_fineweb_model\n",
    "\n",
    "import pickle"
   ]
  },
  {
   "cell_type": "code",
   "execution_count": 4,
   "metadata": {},
   "outputs": [],
   "source": [
    "state_dict = torch.load('model.bin', map_location=torch.device('cpu'))\n",
    "tokenizer = get_tokenizer(\"/Users/owan/Desktop/temporary/TrainSLM/DefaultTokenizer\")"
   ]
  },
  {
   "cell_type": "code",
   "execution_count": 14,
   "metadata": {},
   "outputs": [],
   "source": [
    "model = create_fineweb_model(\n",
    "    vocab_size=len(tokenizer),\n",
    "    attn_implementation=\"sdpa\"\n",
    ")"
   ]
  },
  {
   "cell_type": "code",
   "execution_count": 15,
   "metadata": {},
   "outputs": [
    {
     "data": {
      "text/plain": [
       "_IncompatibleKeys(missing_keys=['transformer.word_embeddings.weight', 'transformer.h.0.self_attention.query_key_value.weight', 'transformer.h.0.self_attention.query_key_value.bias', 'transformer.h.0.self_attention.dense.weight', 'transformer.h.0.self_attention.dense.bias', 'transformer.h.0.mlp.dense_h_to_4h.weight', 'transformer.h.0.mlp.dense_h_to_4h.bias', 'transformer.h.0.mlp.dense_4h_to_h.weight', 'transformer.h.0.mlp.dense_4h_to_h.bias', 'transformer.h.0.input_layernorm.weight', 'transformer.h.0.input_layernorm.bias', 'transformer.h.0.post_attention_layernorm.weight', 'transformer.h.0.post_attention_layernorm.bias', 'transformer.h.1.self_attention.query_key_value.weight', 'transformer.h.1.self_attention.query_key_value.bias', 'transformer.h.1.self_attention.dense.weight', 'transformer.h.1.self_attention.dense.bias', 'transformer.h.1.mlp.dense_h_to_4h.weight', 'transformer.h.1.mlp.dense_h_to_4h.bias', 'transformer.h.1.mlp.dense_4h_to_h.weight', 'transformer.h.1.mlp.dense_4h_to_h.bias', 'transformer.h.1.input_layernorm.weight', 'transformer.h.1.input_layernorm.bias', 'transformer.h.1.post_attention_layernorm.weight', 'transformer.h.1.post_attention_layernorm.bias', 'transformer.h.2.self_attention.query_key_value.weight', 'transformer.h.2.self_attention.query_key_value.bias', 'transformer.h.2.self_attention.dense.weight', 'transformer.h.2.self_attention.dense.bias', 'transformer.h.2.mlp.dense_h_to_4h.weight', 'transformer.h.2.mlp.dense_h_to_4h.bias', 'transformer.h.2.mlp.dense_4h_to_h.weight', 'transformer.h.2.mlp.dense_4h_to_h.bias', 'transformer.h.2.input_layernorm.weight', 'transformer.h.2.input_layernorm.bias', 'transformer.h.2.post_attention_layernorm.weight', 'transformer.h.2.post_attention_layernorm.bias', 'transformer.h.3.self_attention.query_key_value.weight', 'transformer.h.3.self_attention.query_key_value.bias', 'transformer.h.3.self_attention.dense.weight', 'transformer.h.3.self_attention.dense.bias', 'transformer.h.3.mlp.dense_h_to_4h.weight', 'transformer.h.3.mlp.dense_h_to_4h.bias', 'transformer.h.3.mlp.dense_4h_to_h.weight', 'transformer.h.3.mlp.dense_4h_to_h.bias', 'transformer.h.3.input_layernorm.weight', 'transformer.h.3.input_layernorm.bias', 'transformer.h.3.post_attention_layernorm.weight', 'transformer.h.3.post_attention_layernorm.bias', 'transformer.h.4.self_attention.query_key_value.weight', 'transformer.h.4.self_attention.query_key_value.bias', 'transformer.h.4.self_attention.dense.weight', 'transformer.h.4.self_attention.dense.bias', 'transformer.h.4.mlp.dense_h_to_4h.weight', 'transformer.h.4.mlp.dense_h_to_4h.bias', 'transformer.h.4.mlp.dense_4h_to_h.weight', 'transformer.h.4.mlp.dense_4h_to_h.bias', 'transformer.h.4.input_layernorm.weight', 'transformer.h.4.input_layernorm.bias', 'transformer.h.4.post_attention_layernorm.weight', 'transformer.h.4.post_attention_layernorm.bias', 'transformer.h.5.self_attention.query_key_value.weight', 'transformer.h.5.self_attention.query_key_value.bias', 'transformer.h.5.self_attention.dense.weight', 'transformer.h.5.self_attention.dense.bias', 'transformer.h.5.mlp.dense_h_to_4h.weight', 'transformer.h.5.mlp.dense_h_to_4h.bias', 'transformer.h.5.mlp.dense_4h_to_h.weight', 'transformer.h.5.mlp.dense_4h_to_h.bias', 'transformer.h.5.input_layernorm.weight', 'transformer.h.5.input_layernorm.bias', 'transformer.h.5.post_attention_layernorm.weight', 'transformer.h.5.post_attention_layernorm.bias', 'transformer.h.6.self_attention.query_key_value.weight', 'transformer.h.6.self_attention.query_key_value.bias', 'transformer.h.6.self_attention.dense.weight', 'transformer.h.6.self_attention.dense.bias', 'transformer.h.6.mlp.dense_h_to_4h.weight', 'transformer.h.6.mlp.dense_h_to_4h.bias', 'transformer.h.6.mlp.dense_4h_to_h.weight', 'transformer.h.6.mlp.dense_4h_to_h.bias', 'transformer.h.6.input_layernorm.weight', 'transformer.h.6.input_layernorm.bias', 'transformer.h.6.post_attention_layernorm.weight', 'transformer.h.6.post_attention_layernorm.bias', 'transformer.h.7.self_attention.query_key_value.weight', 'transformer.h.7.self_attention.query_key_value.bias', 'transformer.h.7.self_attention.dense.weight', 'transformer.h.7.self_attention.dense.bias', 'transformer.h.7.mlp.dense_h_to_4h.weight', 'transformer.h.7.mlp.dense_h_to_4h.bias', 'transformer.h.7.mlp.dense_4h_to_h.weight', 'transformer.h.7.mlp.dense_4h_to_h.bias', 'transformer.h.7.input_layernorm.weight', 'transformer.h.7.input_layernorm.bias', 'transformer.h.7.post_attention_layernorm.weight', 'transformer.h.7.post_attention_layernorm.bias', 'transformer.h.8.self_attention.query_key_value.weight', 'transformer.h.8.self_attention.query_key_value.bias', 'transformer.h.8.self_attention.dense.weight', 'transformer.h.8.self_attention.dense.bias', 'transformer.h.8.mlp.dense_h_to_4h.weight', 'transformer.h.8.mlp.dense_h_to_4h.bias', 'transformer.h.8.mlp.dense_4h_to_h.weight', 'transformer.h.8.mlp.dense_4h_to_h.bias', 'transformer.h.8.input_layernorm.weight', 'transformer.h.8.input_layernorm.bias', 'transformer.h.8.post_attention_layernorm.weight', 'transformer.h.8.post_attention_layernorm.bias', 'transformer.h.9.self_attention.query_key_value.weight', 'transformer.h.9.self_attention.query_key_value.bias', 'transformer.h.9.self_attention.dense.weight', 'transformer.h.9.self_attention.dense.bias', 'transformer.h.9.mlp.dense_h_to_4h.weight', 'transformer.h.9.mlp.dense_h_to_4h.bias', 'transformer.h.9.mlp.dense_4h_to_h.weight', 'transformer.h.9.mlp.dense_4h_to_h.bias', 'transformer.h.9.input_layernorm.weight', 'transformer.h.9.input_layernorm.bias', 'transformer.h.9.post_attention_layernorm.weight', 'transformer.h.9.post_attention_layernorm.bias', 'transformer.h.10.self_attention.query_key_value.weight', 'transformer.h.10.self_attention.query_key_value.bias', 'transformer.h.10.self_attention.dense.weight', 'transformer.h.10.self_attention.dense.bias', 'transformer.h.10.mlp.dense_h_to_4h.weight', 'transformer.h.10.mlp.dense_h_to_4h.bias', 'transformer.h.10.mlp.dense_4h_to_h.weight', 'transformer.h.10.mlp.dense_4h_to_h.bias', 'transformer.h.10.input_layernorm.weight', 'transformer.h.10.input_layernorm.bias', 'transformer.h.10.post_attention_layernorm.weight', 'transformer.h.10.post_attention_layernorm.bias', 'transformer.h.11.self_attention.query_key_value.weight', 'transformer.h.11.self_attention.query_key_value.bias', 'transformer.h.11.self_attention.dense.weight', 'transformer.h.11.self_attention.dense.bias', 'transformer.h.11.mlp.dense_h_to_4h.weight', 'transformer.h.11.mlp.dense_h_to_4h.bias', 'transformer.h.11.mlp.dense_4h_to_h.weight', 'transformer.h.11.mlp.dense_4h_to_h.bias', 'transformer.h.11.input_layernorm.weight', 'transformer.h.11.input_layernorm.bias', 'transformer.h.11.post_attention_layernorm.weight', 'transformer.h.11.post_attention_layernorm.bias', 'transformer.ln_f.weight', 'transformer.ln_f.bias', 'lm_head.weight'], unexpected_keys=['module.transformer.word_embeddings.weight', 'module.transformer.h.0.self_attention.query_key_value.weight', 'module.transformer.h.0.self_attention.query_key_value.bias', 'module.transformer.h.0.self_attention.dense.weight', 'module.transformer.h.0.self_attention.dense.bias', 'module.transformer.h.0.mlp.dense_h_to_4h.weight', 'module.transformer.h.0.mlp.dense_h_to_4h.bias', 'module.transformer.h.0.mlp.dense_4h_to_h.weight', 'module.transformer.h.0.mlp.dense_4h_to_h.bias', 'module.transformer.h.0.post_attention_layernorm.weight', 'module.transformer.h.0.post_attention_layernorm.bias', 'module.transformer.h.0.input_layernorm.weight', 'module.transformer.h.0.input_layernorm.bias', 'module.transformer.h.1.self_attention.query_key_value.weight', 'module.transformer.h.1.self_attention.query_key_value.bias', 'module.transformer.h.1.self_attention.dense.weight', 'module.transformer.h.1.self_attention.dense.bias', 'module.transformer.h.1.mlp.dense_h_to_4h.weight', 'module.transformer.h.1.mlp.dense_h_to_4h.bias', 'module.transformer.h.1.mlp.dense_4h_to_h.weight', 'module.transformer.h.1.mlp.dense_4h_to_h.bias', 'module.transformer.h.1.post_attention_layernorm.weight', 'module.transformer.h.1.post_attention_layernorm.bias', 'module.transformer.h.1.input_layernorm.weight', 'module.transformer.h.1.input_layernorm.bias', 'module.transformer.h.2.self_attention.query_key_value.weight', 'module.transformer.h.2.self_attention.query_key_value.bias', 'module.transformer.h.2.self_attention.dense.weight', 'module.transformer.h.2.self_attention.dense.bias', 'module.transformer.h.2.mlp.dense_h_to_4h.weight', 'module.transformer.h.2.mlp.dense_h_to_4h.bias', 'module.transformer.h.2.mlp.dense_4h_to_h.weight', 'module.transformer.h.2.mlp.dense_4h_to_h.bias', 'module.transformer.h.2.post_attention_layernorm.weight', 'module.transformer.h.2.post_attention_layernorm.bias', 'module.transformer.h.2.input_layernorm.weight', 'module.transformer.h.2.input_layernorm.bias', 'module.transformer.h.3.self_attention.query_key_value.weight', 'module.transformer.h.3.self_attention.query_key_value.bias', 'module.transformer.h.3.self_attention.dense.weight', 'module.transformer.h.3.self_attention.dense.bias', 'module.transformer.h.3.mlp.dense_h_to_4h.weight', 'module.transformer.h.3.mlp.dense_h_to_4h.bias', 'module.transformer.h.3.mlp.dense_4h_to_h.weight', 'module.transformer.h.3.mlp.dense_4h_to_h.bias', 'module.transformer.h.3.post_attention_layernorm.weight', 'module.transformer.h.3.post_attention_layernorm.bias', 'module.transformer.h.3.input_layernorm.weight', 'module.transformer.h.3.input_layernorm.bias', 'module.transformer.h.4.self_attention.query_key_value.weight', 'module.transformer.h.4.self_attention.query_key_value.bias', 'module.transformer.h.4.self_attention.dense.weight', 'module.transformer.h.4.self_attention.dense.bias', 'module.transformer.h.4.mlp.dense_h_to_4h.weight', 'module.transformer.h.4.mlp.dense_h_to_4h.bias', 'module.transformer.h.4.mlp.dense_4h_to_h.weight', 'module.transformer.h.4.mlp.dense_4h_to_h.bias', 'module.transformer.h.4.post_attention_layernorm.weight', 'module.transformer.h.4.post_attention_layernorm.bias', 'module.transformer.h.4.input_layernorm.weight', 'module.transformer.h.4.input_layernorm.bias', 'module.transformer.h.5.self_attention.query_key_value.weight', 'module.transformer.h.5.self_attention.query_key_value.bias', 'module.transformer.h.5.self_attention.dense.weight', 'module.transformer.h.5.self_attention.dense.bias', 'module.transformer.h.5.mlp.dense_h_to_4h.weight', 'module.transformer.h.5.mlp.dense_h_to_4h.bias', 'module.transformer.h.5.mlp.dense_4h_to_h.weight', 'module.transformer.h.5.mlp.dense_4h_to_h.bias', 'module.transformer.h.5.post_attention_layernorm.weight', 'module.transformer.h.5.post_attention_layernorm.bias', 'module.transformer.h.5.input_layernorm.weight', 'module.transformer.h.5.input_layernorm.bias', 'module.transformer.h.6.self_attention.query_key_value.weight', 'module.transformer.h.6.self_attention.query_key_value.bias', 'module.transformer.h.6.self_attention.dense.weight', 'module.transformer.h.6.self_attention.dense.bias', 'module.transformer.h.6.mlp.dense_h_to_4h.weight', 'module.transformer.h.6.mlp.dense_h_to_4h.bias', 'module.transformer.h.6.mlp.dense_4h_to_h.weight', 'module.transformer.h.6.mlp.dense_4h_to_h.bias', 'module.transformer.h.6.post_attention_layernorm.weight', 'module.transformer.h.6.post_attention_layernorm.bias', 'module.transformer.h.6.input_layernorm.weight', 'module.transformer.h.6.input_layernorm.bias', 'module.transformer.h.7.self_attention.query_key_value.weight', 'module.transformer.h.7.self_attention.query_key_value.bias', 'module.transformer.h.7.self_attention.dense.weight', 'module.transformer.h.7.self_attention.dense.bias', 'module.transformer.h.7.mlp.dense_h_to_4h.weight', 'module.transformer.h.7.mlp.dense_h_to_4h.bias', 'module.transformer.h.7.mlp.dense_4h_to_h.weight', 'module.transformer.h.7.mlp.dense_4h_to_h.bias', 'module.transformer.h.7.post_attention_layernorm.weight', 'module.transformer.h.7.post_attention_layernorm.bias', 'module.transformer.h.7.input_layernorm.weight', 'module.transformer.h.7.input_layernorm.bias', 'module.transformer.h.8.self_attention.query_key_value.weight', 'module.transformer.h.8.self_attention.query_key_value.bias', 'module.transformer.h.8.self_attention.dense.weight', 'module.transformer.h.8.self_attention.dense.bias', 'module.transformer.h.8.mlp.dense_h_to_4h.weight', 'module.transformer.h.8.mlp.dense_h_to_4h.bias', 'module.transformer.h.8.mlp.dense_4h_to_h.weight', 'module.transformer.h.8.mlp.dense_4h_to_h.bias', 'module.transformer.h.8.post_attention_layernorm.weight', 'module.transformer.h.8.post_attention_layernorm.bias', 'module.transformer.h.8.input_layernorm.weight', 'module.transformer.h.8.input_layernorm.bias', 'module.transformer.h.9.self_attention.query_key_value.weight', 'module.transformer.h.9.self_attention.query_key_value.bias', 'module.transformer.h.9.self_attention.dense.weight', 'module.transformer.h.9.self_attention.dense.bias', 'module.transformer.h.9.mlp.dense_h_to_4h.weight', 'module.transformer.h.9.mlp.dense_h_to_4h.bias', 'module.transformer.h.9.mlp.dense_4h_to_h.weight', 'module.transformer.h.9.mlp.dense_4h_to_h.bias', 'module.transformer.h.9.post_attention_layernorm.weight', 'module.transformer.h.9.post_attention_layernorm.bias', 'module.transformer.h.9.input_layernorm.weight', 'module.transformer.h.9.input_layernorm.bias', 'module.transformer.h.10.self_attention.query_key_value.weight', 'module.transformer.h.10.self_attention.query_key_value.bias', 'module.transformer.h.10.self_attention.dense.weight', 'module.transformer.h.10.self_attention.dense.bias', 'module.transformer.h.10.mlp.dense_h_to_4h.weight', 'module.transformer.h.10.mlp.dense_h_to_4h.bias', 'module.transformer.h.10.mlp.dense_4h_to_h.weight', 'module.transformer.h.10.mlp.dense_4h_to_h.bias', 'module.transformer.h.10.post_attention_layernorm.weight', 'module.transformer.h.10.post_attention_layernorm.bias', 'module.transformer.h.10.input_layernorm.weight', 'module.transformer.h.10.input_layernorm.bias', 'module.transformer.h.11.self_attention.query_key_value.weight', 'module.transformer.h.11.self_attention.query_key_value.bias', 'module.transformer.h.11.self_attention.dense.weight', 'module.transformer.h.11.self_attention.dense.bias', 'module.transformer.h.11.mlp.dense_h_to_4h.weight', 'module.transformer.h.11.mlp.dense_h_to_4h.bias', 'module.transformer.h.11.mlp.dense_4h_to_h.weight', 'module.transformer.h.11.mlp.dense_4h_to_h.bias', 'module.transformer.h.11.post_attention_layernorm.weight', 'module.transformer.h.11.post_attention_layernorm.bias', 'module.transformer.h.11.input_layernorm.weight', 'module.transformer.h.11.input_layernorm.bias', 'module.transformer.ln_f.weight', 'module.transformer.ln_f.bias', 'module.lm_head.weight'])"
      ]
     },
     "execution_count": 15,
     "metadata": {},
     "output_type": "execute_result"
    }
   ],
   "source": [
    "model.load_state_dict(state_dict, strict=False)"
   ]
  },
  {
   "cell_type": "code",
   "execution_count": 91,
   "metadata": {},
   "outputs": [],
   "source": [
    "example = \" In theory, you should be able to download those weights, the code required to run can be written in\"\n",
    "tokenized_example = tokenizer(example, return_tensors=\"pt\", return_token_type_ids=False)"
   ]
  },
  {
   "cell_type": "code",
   "execution_count": 92,
   "metadata": {},
   "outputs": [],
   "source": [
    "model.pad_token_id = tokenizer.pad_token_id\n",
    "model.eos_token_id = tokenizer.eos_token_id"
   ]
  },
  {
   "cell_type": "code",
   "execution_count": 93,
   "metadata": {},
   "outputs": [
    {
     "name": "stderr",
     "output_type": "stream",
     "text": [
      "Setting `pad_token_id` to `eos_token_id`:11 for open-end generation.\n"
     ]
    }
   ],
   "source": [
    "output = model.generate(\n",
    "    input_ids=tokenized_example[\"input_ids\"],\n",
    "    attention_mask=tokenized_example[\"attention_mask\"],\n",
    "    temperature=0.8,\n",
    "    max_length=100,\n",
    "    num_beams=5,\n",
    "    early_stopping=True\n",
    ")"
   ]
  },
  {
   "cell_type": "code",
   "execution_count": 94,
   "metadata": {},
   "outputs": [
    {
     "name": "stdout",
     "output_type": "stream",
     "text": [
      "['in theory, you should be able to download those weights, the code required to run can be written inacedacedacedaced continually continually continually continually continually continually continually continually continually continually continually continually continually education education metric metric metric metric metric metric metric metric metric metric metric metric metric metric metric metric metric metric metric metric metric metric metric metric safely safely safely ancest safely safely safely safely metric metric metric metric metric metric metric metric metric metric safely safely safely safely safely safely safely safely safely metric metric metric root safely safely safely safely safely']\n"
     ]
    }
   ],
   "source": [
    "print(tokenizer.batch_decode(output, skip_special_tokens=True))"
   ]
  },
  {
   "cell_type": "code",
   "execution_count": null,
   "metadata": {},
   "outputs": [],
   "source": [
    "state = pickle.load(\n",
    "    open(\"state.pkl\", \"rb\")\n",
    ")"
   ]
  },
  {
   "cell_type": "code",
   "execution_count": null,
   "metadata": {},
   "outputs": [],
   "source": []
  }
 ],
 "metadata": {
  "kernelspec": {
   "display_name": "Python 3",
   "language": "python",
   "name": "python3"
  },
  "language_info": {
   "codemirror_mode": {
    "name": "ipython",
    "version": 3
   },
   "file_extension": ".py",
   "mimetype": "text/x-python",
   "name": "python",
   "nbconvert_exporter": "python",
   "pygments_lexer": "ipython3",
   "version": "3.11.5"
  }
 },
 "nbformat": 4,
 "nbformat_minor": 2
}
